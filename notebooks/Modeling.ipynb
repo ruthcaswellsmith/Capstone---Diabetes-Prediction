{
 "cells": [
  {
   "cell_type": "markdown",
   "metadata": {},
   "source": [
    "# Capstone - Diabetes Prediction - Modeling\n",
    "\n",
    "## Setup"
   ]
  },
  {
   "cell_type": "code",
   "execution_count": 1,
   "metadata": {},
   "outputs": [],
   "source": [
    "# import packages\n",
    "import pandas as pd\n",
    "import numpy as np\n",
    "import matplotlib.pyplot as plt\n",
    "import seaborn as sns\n",
    "import os\n",
    "from sklearn.neighbors import KNeighborsClassifier\n",
    "from sklearn.tree import DecisionTreeClassifier\n",
    "from sklearn.ensemble import RandomForestClassifier, GradientBoostingClassifier\n",
    "from sklearn.svm import SVC\n",
    "from sklearn.linear_model import LogisticRegression\n",
    "from sklearn.model_selection import train_test_split, GridSearchCV\n",
    "from sklearn.metrics import accuracy_score, recall_score, confusion_matrix, classification_report, roc_curve, roc_auc_score, matthews_corrcoef\n",
    "from sklearn.pipeline import Pipeline\n",
    "from sklearn.preprocessing import StandardScaler\n",
    "from sklearn.impute import KNNImputer, SimpleImputer"
   ]
  },
  {
   "cell_type": "markdown",
   "metadata": {},
   "source": [
    "**Import Training and Test Data**"
   ]
  },
  {
   "cell_type": "code",
   "execution_count": 2,
   "metadata": {},
   "outputs": [],
   "source": [
    "# Read in our data\n",
    "datapath = '../data'\n",
    "datapath_X_train = os.path.join(datapath, 'X_train.csv')\n",
    "datapath_X_test = os.path.join(datapath, 'X_test.csv')\n",
    "datapath_y_train = os.path.join(datapath, 'y_train.csv')\n",
    "datapath_y_test = os.path.join(datapath, 'y_test.csv')\n",
    "\n",
    "X_train = pd.read_csv(datapath_X_train)\n",
    "X_test = pd.read_csv(datapath_X_test)\n",
    "y_train = pd.read_csv(datapath_y_train)\n",
    "y_test = pd.read_csv(datapath_y_test)"
   ]
  },
  {
   "cell_type": "markdown",
   "metadata": {},
   "source": [
    "# Try Different Classifiers Using a Pipeline"
   ]
  },
  {
   "cell_type": "markdown",
   "metadata": {},
   "source": [
    "**Define the Pipeline**\n",
    "Set up our pipeline.  We're going to do a gridsearch with 5-fold cross validation and:\n",
    "- scale our data using Standard Scaler\n",
    "- impute our data with KnnImputer\n",
    "- train our classifier with various parameters using \"recall\" as our scoring metric. We want to use recall because we want to minimize false negatives.  "
   ]
  },
  {
   "cell_type": "markdown",
   "metadata": {},
   "source": [
    "## Knn Classifier"
   ]
  },
  {
   "cell_type": "code",
   "execution_count": 3,
   "metadata": {},
   "outputs": [],
   "source": [
    "def knn_pipeline(X_train, X_test, y_train, y_test, features, params):\n",
    "    \"\"\"This runs a pipeline for KNN Classification\n",
    "    based on a subset of features.\n",
    "    It uses the recall score as the metric for optimizing the classifier\"\"\"\n",
    "    \n",
    "    # Subset X\n",
    "    # Here we select the subset of features that we would like\n",
    "    X_train = np.array(X_train[features])\n",
    "    X_test = np.array(X_test[features])\n",
    "    y_train = np.array(y_train).ravel()\n",
    "    y_test = np.array(y_test).ravel()\n",
    "    \n",
    "    # Setup the pipeline\n",
    "    steps = [('scaler',StandardScaler()),('Imputer', KNNImputer()), ('Knn', KNeighborsClassifier())]\n",
    "\n",
    "    pipeline = Pipeline(steps)\n",
    "\n",
    "    # Instantiate the GridSearchCV object: cv\n",
    "    cv = GridSearchCV(pipeline, params, cv=5, scoring='recall')\n",
    "\n",
    "    # Fit to the training set\n",
    "    cv.fit(X_train, y_train)\n",
    "\n",
    "    # Predict our test data\n",
    "    y_pred = cv.predict(X_test)\n",
    "\n",
    "    # Compute and print metrics\n",
    "    print(classification_report(y_test, y_pred))\n",
    "    print(\"Tuned Model Parameters: {}\".format(cv.best_params_))\n",
    "    print(\"\\nConfusion Matrix: \\n\", confusion_matrix(y_test, y_pred))\n"
   ]
  },
  {
   "cell_type": "markdown",
   "metadata": {},
   "source": [
    "**Model with features of Glucose and BMI Category**"
   ]
  },
  {
   "cell_type": "code",
   "execution_count": 4,
   "metadata": {},
   "outputs": [
    {
     "name": "stdout",
     "output_type": "stream",
     "text": [
      "              precision    recall  f1-score   support\n",
      "\n",
      "           0       0.77      0.81      0.79        89\n",
      "           1       0.68      0.62      0.65        58\n",
      "\n",
      "    accuracy                           0.73       147\n",
      "   macro avg       0.72      0.71      0.72       147\n",
      "weighted avg       0.73      0.73      0.73       147\n",
      "\n",
      "Tuned Model Parameters: {'Imputer__n_neighbors': 9, 'Knn__n_neighbors': 3}\n",
      "\n",
      "Confusion Matrix: \n",
      " [[72 17]\n",
      " [22 36]]\n"
     ]
    }
   ],
   "source": [
    "# Let's try a model based on just Glucose and BMI Category\n",
    "features = ['Glucose',\n",
    "       'BMI Category_Class II Obese', 'BMI Category_Class III Obese',\n",
    "       'BMI Category_Normal Weight', 'BMI Category_Overweight',\n",
    "       'BMI Category_Underweight']\n",
    "\n",
    "parameters = {'Imputer__n_neighbors': [3, 5, 7, 9], 'Knn__n_neighbors': [3, 5, 7, 9]}\n",
    "\n",
    "knn_pipeline(X_train, X_test, y_train, y_test, features, parameters)"
   ]
  },
  {
   "cell_type": "markdown",
   "metadata": {},
   "source": [
    "Our recall score for an outcome of 1 is .62 and our overall accuracy is .73.  Let's try another model. "
   ]
  },
  {
   "cell_type": "markdown",
   "metadata": {},
   "source": [
    "**Model with all features except continuous BMI**"
   ]
  },
  {
   "cell_type": "code",
   "execution_count": 5,
   "metadata": {
    "scrolled": true
   },
   "outputs": [
    {
     "name": "stdout",
     "output_type": "stream",
     "text": [
      "              precision    recall  f1-score   support\n",
      "\n",
      "           0       0.78      0.90      0.84        89\n",
      "           1       0.80      0.62      0.70        58\n",
      "\n",
      "    accuracy                           0.79       147\n",
      "   macro avg       0.79      0.76      0.77       147\n",
      "weighted avg       0.79      0.79      0.78       147\n",
      "\n",
      "Tuned Model Parameters: {'Imputer__n_neighbors': 9, 'Knn__n_neighbors': 5}\n",
      "\n",
      "Confusion Matrix: \n",
      " [[80  9]\n",
      " [22 36]]\n"
     ]
    }
   ],
   "source": [
    "# Now let's try it with all the features except BMI (which is highly correlated with BMI Category)\n",
    "features = ['Pregnancies', 'Glucose', 'BloodPressure', 'SkinThickness', 'Insulin',\\\n",
    "       'DiabetesPedigreeFunction', 'Age', \\\n",
    "       'BMI Category_Class II Obese', 'BMI Category_Class III Obese',\\\n",
    "       'BMI Category_Normal Weight', 'BMI Category_Overweight',\\\n",
    "       'BMI Category_Underweight']\n",
    "\n",
    "# Specify the hyperparameter space\n",
    "parameters = {'Imputer__n_neighbors': [3, 5, 7, 9], 'Knn__n_neighbors': [3, 5, 7, 9]}   \n",
    "\n",
    "knn_pipeline(X_train, X_test, y_train, y_test, features, parameters)"
   ]
  },
  {
   "cell_type": "markdown",
   "metadata": {},
   "source": [
    "Interesting.  Our recall score hasn't improved, but our overall accuracy has improved with the additional features.  Let's keep all those features going forward.  "
   ]
  },
  {
   "cell_type": "code",
   "execution_count": 6,
   "metadata": {},
   "outputs": [
    {
     "name": "stdout",
     "output_type": "stream",
     "text": [
      "              precision    recall  f1-score   support\n",
      "\n",
      "           0       0.78      0.90      0.84        89\n",
      "           1       0.80      0.62      0.70        58\n",
      "\n",
      "    accuracy                           0.79       147\n",
      "   macro avg       0.79      0.76      0.77       147\n",
      "weighted avg       0.79      0.79      0.78       147\n",
      "\n",
      "Tuned Model Parameters: {'Imputer__n_neighbors': 9, 'Knn__n_neighbors': 5, 'Knn__p': 2}\n",
      "\n",
      "Confusion Matrix: \n",
      " [[80  9]\n",
      " [22 36]]\n"
     ]
    }
   ],
   "source": [
    "# Now let's try comparing Manhattan or Euclidean distance for our classifier\n",
    "parameters = {'Imputer__n_neighbors': [3, 5, 7, 9], 'Knn__n_neighbors': [3, 5, 7, 9], 'Knn__p': [1, 2]}   \n",
    "\n",
    "knn_pipeline(X_train, X_test, y_train, y_test, features, parameters)"
   ]
  },
  {
   "cell_type": "markdown",
   "metadata": {},
   "source": [
    "This seems to have made no difference, and the euclidean distance is actually the better performer."
   ]
  },
  {
   "cell_type": "markdown",
   "metadata": {},
   "source": [
    "## Decision Tree\n",
    "\n",
    "Let's try a decision tree with a hyperparameters of max_depth and criterion (\"entropy\" or \"gini\").  "
   ]
  },
  {
   "cell_type": "markdown",
   "metadata": {},
   "source": [
    "**Define the Pipeline**"
   ]
  },
  {
   "cell_type": "code",
   "execution_count": 7,
   "metadata": {},
   "outputs": [],
   "source": [
    "def tree_pipeline(X_train, X_test, y_train, y_test, features, params):\n",
    "    \"\"\"This runs a pipeline for Decision Tree Classification\n",
    "    based on a subset of features.\n",
    "    It uses the recall score as the metric for optimizing the classifier\"\"\"\n",
    "    \n",
    "    # Subset X\n",
    "    # Here we select the subset of features that we would like\n",
    "    X_train = np.array(X_train[features])\n",
    "    X_test = np.array(X_test[features])\n",
    "    y_train = np.array(y_train).ravel()\n",
    "    y_test = np.array(y_test).ravel()\n",
    "    \n",
    "    # Setup the pipeline\n",
    "    steps = [('scaler',StandardScaler()),('Imputer', KNNImputer()), ('Tree', DecisionTreeClassifier())]\n",
    "    pipeline = Pipeline(steps)\n",
    "\n",
    "    # Instantiate the GridSearchCV object: cv\n",
    "    cv = GridSearchCV(pipeline, params, cv=5, scoring='recall')\n",
    "\n",
    "    # Fit to the training set\n",
    "    cv.fit(X_train, y_train)\n",
    "\n",
    "    # Predict our test data\n",
    "    y_pred = cv.predict(X_test)\n",
    "\n",
    "    # Compute and print metrics\n",
    "    print(classification_report(y_test, y_pred))\n",
    "    print(\"Tuned Model Parameters: {}\".format(cv.best_params_))\n",
    "    print(\"\\nConfusion Matrix: \\n\", confusion_matrix(y_test, y_pred))\n"
   ]
  },
  {
   "cell_type": "code",
   "execution_count": 8,
   "metadata": {},
   "outputs": [
    {
     "name": "stdout",
     "output_type": "stream",
     "text": [
      "              precision    recall  f1-score   support\n",
      "\n",
      "           0       0.78      0.82      0.80        89\n",
      "           1       0.70      0.64      0.67        58\n",
      "\n",
      "    accuracy                           0.75       147\n",
      "   macro avg       0.74      0.73      0.73       147\n",
      "weighted avg       0.75      0.75      0.75       147\n",
      "\n",
      "Tuned Model Parameters: {'Imputer__n_neighbors': 3, 'Tree__criterion': 'entropy', 'Tree__max_depth': 5}\n",
      "\n",
      "Confusion Matrix: \n",
      " [[73 16]\n",
      " [21 37]]\n"
     ]
    }
   ],
   "source": [
    "# Specify the hyperparameter space\n",
    "parameters = {'Imputer__n_neighbors': [3, 5, 7, 9], 'Tree__max_depth': [3, 5, 7], 'Tree__criterion': ['entropy', 'gini']}   \n",
    "\n",
    "tree_pipeline(X_train, X_test, y_train, y_test, features, parameters)"
   ]
  },
  {
   "cell_type": "markdown",
   "metadata": {},
   "source": [
    "The overall accuracy of this classifier is slightly worse than our KNN, but note that our recall score for an outcome of 1 has improved, and we have fewer false negatives.  "
   ]
  },
  {
   "cell_type": "markdown",
   "metadata": {},
   "source": [
    "## Random Forest Classifier\n",
    "Let's try a random forest classifier.  We expect this would do much better than a simple decision tree.  "
   ]
  },
  {
   "cell_type": "code",
   "execution_count": 9,
   "metadata": {},
   "outputs": [],
   "source": [
    "def RF_pipeline(X_train, X_test, y_train, y_test, features, params):\n",
    "    \"\"\"This runs a pipeline for Random Forest Classification\n",
    "    based on a subset of features.\n",
    "    It uses the recall score as the metric for optimizing the classifier\"\"\"\n",
    "    \n",
    "    # Subset X\n",
    "    # Here we select the subset of features that we would like\n",
    "    X_train = np.array(X_train[features])\n",
    "    X_test = np.array(X_test[features])\n",
    "    y_train = np.array(y_train).ravel()\n",
    "    y_test = np.array(y_test).ravel()\n",
    "        \n",
    "    # Setup the pipeline\n",
    "    steps = [('scaler',StandardScaler()),('Imputer', KNNImputer()),('RF', RandomForestClassifier())]\n",
    "    pipeline = Pipeline(steps)\n",
    "\n",
    "    # Instantiate the GridSearchCV object: cv\n",
    "    cv = GridSearchCV(pipeline, params, cv=5, scoring='recall')\n",
    "\n",
    "    # Fit to the training set\n",
    "    cv.fit(X_train, y_train)\n",
    "\n",
    "    # Predict our test data\n",
    "    y_pred = cv.predict(X_test)\n",
    "\n",
    "    # Compute and print metrics\n",
    "    print(classification_report(y_test, y_pred))\n",
    "    print(\"Tuned Model Parameters: {}\".format(cv.best_params_))\n",
    "    print(\"\\nConfusion Matrix: \\n\", confusion_matrix(y_test, y_pred))\n"
   ]
  },
  {
   "cell_type": "code",
   "execution_count": 10,
   "metadata": {},
   "outputs": [
    {
     "name": "stdout",
     "output_type": "stream",
     "text": [
      "              precision    recall  f1-score   support\n",
      "\n",
      "           0       0.74      0.88      0.80        89\n",
      "           1       0.74      0.53      0.62        58\n",
      "\n",
      "    accuracy                           0.74       147\n",
      "   macro avg       0.74      0.71      0.71       147\n",
      "weighted avg       0.74      0.74      0.73       147\n",
      "\n",
      "Tuned Model Parameters: {'Imputer__n_neighbors': 3, 'RF__criterion': 'gini', 'RF__max_depth': 7, 'RF__n_estimators': 400}\n",
      "\n",
      "Confusion Matrix: \n",
      " [[78 11]\n",
      " [27 31]]\n"
     ]
    }
   ],
   "source": [
    "# Specify the hyperparameter space\n",
    "parameters = { 'Imputer__n_neighbors': [3,5,7], 'RF__max_depth': [3, 5, 7], \\\n",
    "              'RF__criterion': ['entropy', 'gini'], 'RF__n_estimators': [200, 300,400]}   \n",
    "\n",
    "RF_pipeline(X_train, X_test, y_train, y_test, features, parameters)"
   ]
  },
  {
   "cell_type": "markdown",
   "metadata": {},
   "source": [
    "This is interesting, our random forest classifier is worse than our single decision tree in terms of our recall score, although similar in terms of accuracy. I'm curious if we increased the max depth whether it would improve.  "
   ]
  },
  {
   "cell_type": "code",
   "execution_count": 11,
   "metadata": {},
   "outputs": [
    {
     "name": "stdout",
     "output_type": "stream",
     "text": [
      "              precision    recall  f1-score   support\n",
      "\n",
      "           0       0.76      0.89      0.82        89\n",
      "           1       0.77      0.57      0.65        58\n",
      "\n",
      "    accuracy                           0.76       147\n",
      "   macro avg       0.76      0.73      0.74       147\n",
      "weighted avg       0.76      0.76      0.75       147\n",
      "\n",
      "Tuned Model Parameters: {'Imputer__n_neighbors': 7, 'RF__criterion': 'entropy', 'RF__max_depth': 9, 'RF__n_estimators': 400}\n",
      "\n",
      "Confusion Matrix: \n",
      " [[79 10]\n",
      " [25 33]]\n"
     ]
    }
   ],
   "source": [
    "# Specify the hyperparameter space\n",
    "parameters = { 'Imputer__n_neighbors': [3,5,7], 'RF__max_depth': [5, 7, 9], \\\n",
    "              'RF__criterion': ['entropy', 'gini'], 'RF__n_estimators': [200, 300,400]}   \n",
    "\n",
    "RF_pipeline(X_train, X_test, y_train, y_test, features, parameters)"
   ]
  },
  {
   "cell_type": "markdown",
   "metadata": {},
   "source": [
    "It seemed to prefer a deeper tree, but the recall score only improved marginally.    "
   ]
  },
  {
   "cell_type": "markdown",
   "metadata": {},
   "source": [
    "## Gradient Boosting Classifier"
   ]
  },
  {
   "cell_type": "code",
   "execution_count": 12,
   "metadata": {},
   "outputs": [],
   "source": [
    "def GBC_pipeline(X_train, X_test, y_train, y_test, features, params):\n",
    "    \"\"\"This runs a pipeline for Gradient Boosting Classification\n",
    "    based on a subset of features.\n",
    "    It uses the recall score as the metric for optimizing the classifier\"\"\"\n",
    "    \n",
    "    # Subset X\n",
    "    # Here we select the subset of features that we would like\n",
    "    X_train = np.array(X_train[features])\n",
    "    X_test = np.array(X_test[features])\n",
    "    y_train = np.array(y_train).ravel()\n",
    "    y_test = np.array(y_test).ravel()\n",
    "        \n",
    "    # Setup the pipeline\n",
    "    steps = [('scaler',StandardScaler()),('Imputer', KNNImputer()), ('GBC', GradientBoostingClassifier())]\n",
    "    pipeline = Pipeline(steps)\n",
    "\n",
    "    # Instantiate the GridSearchCV object: cv\n",
    "    cv = GridSearchCV(pipeline, params, cv=5, scoring='recall')\n",
    "\n",
    "    # Fit to the training set\n",
    "    cv.fit(X_train, y_train)\n",
    "\n",
    "    # Predict our test data\n",
    "    y_pred = cv.predict(X_test)\n",
    "\n",
    "    # Compute and print metrics\n",
    "    print(classification_report(y_test, y_pred))\n",
    "    print(\"Tuned Model Parameters: {}\".format(cv.best_params_))\n",
    "    print(\"\\nConfusion Matrix: \\n\", confusion_matrix(y_test, y_pred))\n"
   ]
  },
  {
   "cell_type": "code",
   "execution_count": 13,
   "metadata": {},
   "outputs": [
    {
     "name": "stdout",
     "output_type": "stream",
     "text": [
      "              precision    recall  f1-score   support\n",
      "\n",
      "           0       0.77      0.89      0.83        89\n",
      "           1       0.78      0.60      0.68        58\n",
      "\n",
      "    accuracy                           0.78       147\n",
      "   macro avg       0.78      0.75      0.75       147\n",
      "weighted avg       0.78      0.78      0.77       147\n",
      "\n",
      "Tuned Model Parameters: {'GBC__learning_rate': 0.75, 'GBC__max_depth': 2, 'GBC__max_features': 5, 'GBC__n_estimators': 50, 'Imputer__n_neighbors': 9}\n",
      "\n",
      "Confusion Matrix: \n",
      " [[79 10]\n",
      " [23 35]]\n"
     ]
    }
   ],
   "source": [
    "# Specify the hyperparameter space\n",
    "parameters = {'Imputer__n_neighbors': [3, 5, 7, 9], 'GBC__n_estimators': [20, 50], \\\n",
    "              'GBC__learning_rate': [0.05, 0.1, 0.25, 0.5, 0.75, 1], 'GBC__max_features': [2, 5], 'GBC__max_depth': [2, 5]}   \n",
    "\n",
    "GBC_pipeline(X_train, X_test, y_train, y_test, features, parameters)"
   ]
  },
  {
   "cell_type": "markdown",
   "metadata": {},
   "source": [
    "So for the gradient boosing classifier, notice that our overall accuracy and our recall score are slightly higher."
   ]
  },
  {
   "cell_type": "markdown",
   "metadata": {},
   "source": [
    "## Support Vector Classifier"
   ]
  },
  {
   "cell_type": "code",
   "execution_count": 14,
   "metadata": {},
   "outputs": [],
   "source": [
    "def SVC_pipeline(X_train, X_test, y_train, y_test, features, params):\n",
    "    \"\"\"This runs a pipeline for Support Vector Classification\n",
    "    based on a subset of features.\n",
    "    It uses the recallscore as the metric for optimizing the classifier\"\"\"\n",
    "    \n",
    "    # Subset X\n",
    "    # Here we select the subset of features that we would like\n",
    "    X_train = np.array(X_train[features])\n",
    "    X_test = np.array(X_test[features])\n",
    "    y_train = np.array(y_train).ravel()\n",
    "    y_test = np.array(y_test).ravel()\n",
    "        \n",
    "    # Setup the pipeline\n",
    "    steps = [('scaler',StandardScaler()),('Imputer', KNNImputer()), ('SVC', SVC(gamma='scale', kernel='rbf'))]\n",
    "    pipeline = Pipeline(steps)\n",
    "\n",
    "    # Instantiate the GridSearchCV object: cv\n",
    "    cv = GridSearchCV(pipeline, params, cv=5, scoring='recall')\n",
    "\n",
    "    # Fit to the training set\n",
    "    cv.fit(X_train, y_train)\n",
    "\n",
    "    # Predict our test data\n",
    "    y_pred = cv.predict(X_test)\n",
    "\n",
    "    # Compute and print metrics\n",
    "    print(classification_report(y_test, y_pred))\n",
    "    print(\"Tuned Model Parameters: {}\".format(cv.best_params_))\n",
    "    print(\"\\nConfusion Matrix: \\n\", confusion_matrix(y_test, y_pred))\n"
   ]
  },
  {
   "cell_type": "code",
   "execution_count": 15,
   "metadata": {},
   "outputs": [
    {
     "name": "stdout",
     "output_type": "stream",
     "text": [
      "              precision    recall  f1-score   support\n",
      "\n",
      "           0       0.79      0.82      0.81        89\n",
      "           1       0.71      0.67      0.69        58\n",
      "\n",
      "    accuracy                           0.76       147\n",
      "   macro avg       0.75      0.75      0.75       147\n",
      "weighted avg       0.76      0.76      0.76       147\n",
      "\n",
      "Tuned Model Parameters: {'Imputer__n_neighbors': 3, 'SVC__C': 10}\n",
      "\n",
      "Confusion Matrix: \n",
      " [[73 16]\n",
      " [19 39]]\n"
     ]
    }
   ],
   "source": [
    "# Specify the hyperparameter space\n",
    "parameters = {'Imputer__n_neighbors': [3, 5, 7, 9], 'SVC__C': [.1, 1, 10]}   \n",
    "\n",
    "SVC_pipeline(X_train, X_test, y_train, y_test, features, parameters)"
   ]
  },
  {
   "cell_type": "markdown",
   "metadata": {},
   "source": [
    "This classifier actually does quite well, with a comparable accuracy score and a higher and a recall score that are better than our random forest classifier.  "
   ]
  },
  {
   "cell_type": "markdown",
   "metadata": {},
   "source": [
    "## Logistic Regression"
   ]
  },
  {
   "cell_type": "code",
   "execution_count": 16,
   "metadata": {},
   "outputs": [],
   "source": [
    "def Logreg_pipeline(X_train, X_test, y_train, y_test, features, params):\n",
    "    \"\"\"This runs a pipeline for Random Forest Classification\n",
    "    based on a subset of features.\n",
    "    It uses the recall score as the metric for optimizing the classifier\"\"\"\n",
    "    \n",
    "    # Subset X\n",
    "    # Here we select the subset of features that we would like\n",
    "    X_train = np.array(X_train[features])\n",
    "    X_test = np.array(X_test[features])\n",
    "    y_train = np.array(y_train).ravel()\n",
    "    y_test = np.array(y_test).ravel()\n",
    "        \n",
    "    # Setup the pipeline\n",
    "    steps = [('scaler',StandardScaler()),('Imputer', KNNImputer()), ('Logreg', LogisticRegression())]\n",
    "    pipeline = Pipeline(steps)\n",
    "\n",
    "    # Instantiate the GridSearchCV object: cv\n",
    "    cv = GridSearchCV(pipeline, params, cv=5, scoring='recall')\n",
    "\n",
    "    # Fit to the training set\n",
    "    cv.fit(X_train, y_train)\n",
    "\n",
    "    # Predict our test data\n",
    "    y_pred = cv.predict(X_test)\n",
    "\n",
    "    # Compute and print metrics\n",
    "    print(classification_report(y_test, y_pred))\n",
    "    print(\"Tuned Model Parameters: {}\".format(cv.best_params_))\n",
    "    print(\"\\nConfusion Matrix: \\n\", confusion_matrix(y_test, y_pred))\n"
   ]
  },
  {
   "cell_type": "code",
   "execution_count": 17,
   "metadata": {},
   "outputs": [
    {
     "name": "stdout",
     "output_type": "stream",
     "text": [
      "              precision    recall  f1-score   support\n",
      "\n",
      "           0       0.77      0.88      0.82        89\n",
      "           1       0.76      0.60      0.67        58\n",
      "\n",
      "    accuracy                           0.77       147\n",
      "   macro avg       0.77      0.74      0.75       147\n",
      "weighted avg       0.77      0.77      0.76       147\n",
      "\n",
      "Tuned Model Parameters: {'Imputer__n_neighbors': 3, 'Logreg__C': 10}\n",
      "\n",
      "Confusion Matrix: \n",
      " [[78 11]\n",
      " [23 35]]\n"
     ]
    }
   ],
   "source": [
    "# Specify the hyperparameter space\n",
    "parameters = {'Imputer__n_neighbors': [3, 5, 7, 9], 'Logreg__C': [0.001, 0.1, 1, 10, 100]}   \n",
    "\n",
    "Logreg_pipeline(X_train, X_test, y_train, y_test, features, parameters)"
   ]
  },
  {
   "cell_type": "markdown",
   "metadata": {},
   "source": [
    "Logistic regression seems to do better than Random Forest, but not quite as well as SVC.  "
   ]
  },
  {
   "cell_type": "markdown",
   "metadata": {},
   "source": [
    "# Balancing our Dataset using SMOTE"
   ]
  },
  {
   "cell_type": "markdown",
   "metadata": {},
   "source": [
    "It appears that SVC performs the best, followed by logistic regression and then random forest.  However, for all of these we are still seeing a fairly large number of false negatives, with relatively low recall scores.  This is interesting given that we are using recall as our scoring metric, but note that generally we're seeing precision and recall scores that are much higher for an outcome of 0 than 1.  I believe this makes sense becuase 2/3 of our data has an outcome of 0. So let's try oversampling the data in order to lead to a more balanced dataset.\n",
    "\n",
    "In order to do this we'll use SMOTE, which means we have to use the pipeline from imblearn.  This is so that only the training data is oversampled but the test data is not.  \n",
    "\n",
    "Let's try SMOTE and then re-run our three top classifiers and go from there."
   ]
  },
  {
   "cell_type": "code",
   "execution_count": 18,
   "metadata": {},
   "outputs": [],
   "source": [
    "# import from imblearn\n",
    "from imblearn.over_sampling import SMOTE\n",
    "from imblearn.pipeline import Pipeline"
   ]
  },
  {
   "cell_type": "markdown",
   "metadata": {},
   "source": [
    "## Random Forest Classifier"
   ]
  },
  {
   "cell_type": "code",
   "execution_count": 19,
   "metadata": {},
   "outputs": [],
   "source": [
    "def RF_pipeline(X_train, X_test, y_train, y_test, features, params):\n",
    "    \"\"\"This runs a pipeline for Random Forest Classification\n",
    "    based on a subset of features.\n",
    "    It uses the recall score as the metric for optimizing the classifier\"\"\"\n",
    "    \n",
    "    # Subset X\n",
    "    # Here we select the subset of features that we would like\n",
    "    X_train = np.array(X_train[features])\n",
    "    X_test = np.array(X_test[features])\n",
    "    y_train = np.array(y_train).ravel()\n",
    "    y_test = np.array(y_test).ravel()\n",
    "    \n",
    "    # Setup the pipeline\n",
    "    steps = [('scaler',StandardScaler()),('Imputer', KNNImputer()), ('smote',SMOTE()),('RF', RandomForestClassifier())]\n",
    "    pipeline = Pipeline(steps)\n",
    "\n",
    "    # Instantiate the GridSearchCV object: cv\n",
    "    cv = GridSearchCV(pipeline, params, cv=5, scoring='recall')\n",
    "\n",
    "    # Fit to the training set\n",
    "    cv.fit(X_train, y_train)\n",
    "\n",
    "    # Predict our test data\n",
    "    y_pred = cv.predict(X_test)\n",
    "\n",
    "    # Compute and print metrics\n",
    "    print(classification_report(y_test, y_pred))\n",
    "    print(\"Tuned Model Parameters: {}\".format(cv.best_params_))\n",
    "    print(\"\\nConfusion Matrix: \\n\", confusion_matrix(y_test, y_pred))\n"
   ]
  },
  {
   "cell_type": "code",
   "execution_count": 20,
   "metadata": {},
   "outputs": [
    {
     "name": "stdout",
     "output_type": "stream",
     "text": [
      "              precision    recall  f1-score   support\n",
      "\n",
      "           0       0.89      0.72      0.80        89\n",
      "           1       0.67      0.86      0.75        58\n",
      "\n",
      "    accuracy                           0.78       147\n",
      "   macro avg       0.78      0.79      0.77       147\n",
      "weighted avg       0.80      0.78      0.78       147\n",
      "\n",
      "Tuned Model Parameters: {'Imputer__n_neighbors': 7, 'RF__criterion': 'gini', 'RF__max_depth': 3, 'RF__n_estimators': 400}\n",
      "\n",
      "Confusion Matrix: \n",
      " [[64 25]\n",
      " [ 8 50]]\n"
     ]
    }
   ],
   "source": [
    "# Specify the hyperparameter space\n",
    "parameters = { 'Imputer__n_neighbors': [3,5,7], 'RF__max_depth': [3, 5, 7], \\\n",
    "              'RF__criterion': ['entropy', 'gini'], 'RF__n_estimators': [200, 300,400]}   \n",
    "\n",
    "RF_pipeline(X_train, X_test, y_train, y_test, features, parameters)"
   ]
  },
  {
   "cell_type": "markdown",
   "metadata": {},
   "source": [
    "This is significantly better.  Note that our overall accuracy score has increased to .78, but more remarkably our recall score for an outome of 1 has increased to .86. \n",
    "\n",
    "Let's try to further optimize our Random Forest Classifier by exploring the hyperparameter space and specifying different sets of features.  "
   ]
  },
  {
   "cell_type": "code",
   "execution_count": 21,
   "metadata": {},
   "outputs": [
    {
     "name": "stdout",
     "output_type": "stream",
     "text": [
      "              precision    recall  f1-score   support\n",
      "\n",
      "           0       0.90      0.72      0.80        89\n",
      "           1       0.67      0.88      0.76        58\n",
      "\n",
      "    accuracy                           0.78       147\n",
      "   macro avg       0.79      0.80      0.78       147\n",
      "weighted avg       0.81      0.78      0.78       147\n",
      "\n",
      "Tuned Model Parameters: {'Imputer__n_neighbors': 7, 'RF__criterion': 'gini', 'RF__max_depth': 3, 'RF__n_estimators': 300}\n",
      "\n",
      "Confusion Matrix: \n",
      " [[64 25]\n",
      " [ 7 51]]\n"
     ]
    }
   ],
   "source": [
    "# Let's expand the hyperparameter space a bit. \n",
    "parameters = { 'Imputer__n_neighbors': [3,5,7,9], 'RF__max_depth': [3, 5, 7, 9], \\\n",
    "              'RF__criterion': ['entropy', 'gini'], 'RF__n_estimators': [200, 300, 400, 500]}   \n",
    "\n",
    "RF_pipeline(X_train, X_test, y_train, y_test, features, parameters)\n"
   ]
  },
  {
   "cell_type": "markdown",
   "metadata": {},
   "source": [
    "So using 500 estimates results in slightly better recall scores, but it is a lot slower!  "
   ]
  },
  {
   "cell_type": "code",
   "execution_count": 22,
   "metadata": {},
   "outputs": [
    {
     "name": "stdout",
     "output_type": "stream",
     "text": [
      "              precision    recall  f1-score   support\n",
      "\n",
      "           0       0.93      0.71      0.80        89\n",
      "           1       0.67      0.91      0.77        58\n",
      "\n",
      "    accuracy                           0.79       147\n",
      "   macro avg       0.80      0.81      0.79       147\n",
      "weighted avg       0.83      0.79      0.79       147\n",
      "\n",
      "Tuned Model Parameters: {'Imputer__n_neighbors': 9, 'RF__criterion': 'entropy', 'RF__max_depth': 3, 'RF__n_estimators': 500}\n",
      "\n",
      "Confusion Matrix: \n",
      " [[63 26]\n",
      " [ 5 53]]\n"
     ]
    }
   ],
   "source": [
    "# Let's try continuous BMI instead of BMI Category\n",
    "features = ['Pregnancies', 'Glucose', 'BloodPressure', 'SkinThickness', 'Insulin',\\\n",
    "       'DiabetesPedigreeFunction', 'Age', 'BMI']\n",
    "\n",
    "# Let's use the same hyperparameter space. \n",
    "parameters = { 'Imputer__n_neighbors': [3,5,7,9], 'RF__max_depth': [3, 5, 7, 9], \\\n",
    "              'RF__criterion': ['entropy', 'gini'], 'RF__n_estimators': [200, 300, 400, 500]}   \n",
    "\n",
    "RF_pipeline(X_train, X_test, y_train, y_test, features, parameters)"
   ]
  },
  {
   "cell_type": "markdown",
   "metadata": {},
   "source": [
    "That's interesting, both accuracy and recall improved a bit.  However I think making BMI a category is more interesting so we'll stick with that.  "
   ]
  },
  {
   "cell_type": "markdown",
   "metadata": {},
   "source": [
    "## Support Vector Classifier"
   ]
  },
  {
   "cell_type": "markdown",
   "metadata": {},
   "source": [
    "Now let's try to optimize our SVC using SMOTE."
   ]
  },
  {
   "cell_type": "code",
   "execution_count": null,
   "metadata": {},
   "outputs": [],
   "source": [
    "def SVC_pipeline(X_train, X_test, y_train, y_test, features, params):\n",
    "    \"\"\"This runs a pipeline for Support Vector Classification\n",
    "    based on a subset of features.\n",
    "    It uses the recall score as the metric for optimizing the classifier\"\"\"\n",
    "    \n",
    "    # Subset X\n",
    "    # Here we select the subset of features that we would like\n",
    "    X_train = np.array(X_train[features])\n",
    "    X_test = np.array(X_test[features])\n",
    "    y_train = np.array(y_train).ravel()\n",
    "    y_test = np.array(y_test).ravel()\n",
    "        \n",
    "    # Setup the pipeline\n",
    "    steps = [('scaler',StandardScaler()),('Imputer', KNNImputer()), ('smote',SMOTE()), ('SVC', SVC())]\n",
    "    pipeline = Pipeline(steps)\n",
    "\n",
    "    # Instantiate the GridSearchCV object: cv\n",
    "    cv = GridSearchCV(pipeline, params, cv=5, scoring='recall')\n",
    "\n",
    "    # Fit to the training set\n",
    "    cv.fit(X_train, y_train)\n",
    "\n",
    "    # Predict our test data\n",
    "    y_pred = cv.predict(X_test)\n",
    "\n",
    "    # Compute and print metrics\n",
    "    print(classification_report(y_test, y_pred))\n",
    "    print(\"Tuned Model Parameters: {}\".format(cv.best_params_))\n",
    "    print(\"\\nConfusion Matrix: \\n\", confusion_matrix(y_test, y_pred))\n"
   ]
  },
  {
   "cell_type": "code",
   "execution_count": 27,
   "metadata": {},
   "outputs": [
    {
     "name": "stdout",
     "output_type": "stream",
     "text": [
      "              precision    recall  f1-score   support\n",
      "\n",
      "           0       0.79      0.82      0.81        89\n",
      "           1       0.71      0.67      0.69        58\n",
      "\n",
      "    accuracy                           0.76       147\n",
      "   macro avg       0.75      0.75      0.75       147\n",
      "weighted avg       0.76      0.76      0.76       147\n",
      "\n",
      "Tuned Model Parameters: {'Imputer__n_neighbors': 3, 'SVC__C': 10, 'SVC__gamma': 'scale', 'SVC__kernel': 'rbf'}\n",
      "\n",
      "Confusion Matrix: \n",
      " [[73 16]\n",
      " [19 39]]\n"
     ]
    }
   ],
   "source": [
    "# Specify the hyperparameter space\n",
    "features = ['Pregnancies', 'Glucose', 'BloodPressure', 'SkinThickness', 'Insulin',\\\n",
    "       'DiabetesPedigreeFunction', 'Age', \\\n",
    "       'BMI Category_Class II Obese', 'BMI Category_Class III Obese',\\\n",
    "       'BMI Category_Normal Weight', 'BMI Category_Overweight',\\\n",
    "       'BMI Category_Underweight']\n",
    "\n",
    "parameters = {'Imputer__n_neighbors': [3, 5, 7, 9], 'SVC__C': [.1, 1, 10], 'SVC__kernel': ['rbf','poly'],\\\n",
    "             'SVC__gamma': ['scale','auto']}   \n",
    "\n",
    "SVC_pipeline(X_train, X_test, y_train, y_test, features, parameters)"
   ]
  },
  {
   "cell_type": "markdown",
   "metadata": {},
   "source": [
    "Interesting, our SVC did not respond as well to SMOTE as our random forest model. \n",
    "\n",
    "Let's try Logistic Regression with SMOTE as well. "
   ]
  },
  {
   "cell_type": "markdown",
   "metadata": {},
   "source": [
    "## Logistic Regression"
   ]
  },
  {
   "cell_type": "code",
   "execution_count": 24,
   "metadata": {},
   "outputs": [],
   "source": [
    "def Logreg_pipeline(X_train, X_test, y_train, y_test, features, params):\n",
    "    \"\"\"This runs a pipeline for Random Forest Classification\n",
    "    based on a subset of features.\n",
    "    It uses the recall score as the metric for optimizing the classifier\"\"\"\n",
    "    \n",
    "    # Subset X\n",
    "    # Here we select the subset of features that we would like\n",
    "    X_train = np.array(X_train[features])\n",
    "    X_test = np.array(X_test[features])\n",
    "    y_train = np.array(y_train).ravel()\n",
    "    y_test = np.array(y_test).ravel()\n",
    "        \n",
    "    # Setup the pipeline\n",
    "    steps = [('scaler',StandardScaler()),('Imputer', KNNImputer()), ('smote',SMOTE()),('Logreg', LogisticRegression())]\n",
    "    pipeline = Pipeline(steps)\n",
    "\n",
    "    # Instantiate the GridSearchCV object: cv\n",
    "    cv = GridSearchCV(pipeline, params, cv=5, scoring='recall')\n",
    "\n",
    "    # Fit to the training set\n",
    "    cv.fit(X_train, y_train)\n",
    "\n",
    "    # Predict our test data\n",
    "    y_pred = cv.predict(X_test)\n",
    "\n",
    "    # Compute and print metrics\n",
    "    print(classification_report(y_test, y_pred))\n",
    "    print(\"Tuned Model Parameters: {}\".format(cv.best_params_))\n",
    "    print(\"\\nConfusion Matrix: \\n\", confusion_matrix(y_test, y_pred))\n"
   ]
  },
  {
   "cell_type": "code",
   "execution_count": 28,
   "metadata": {},
   "outputs": [
    {
     "name": "stdout",
     "output_type": "stream",
     "text": [
      "              precision    recall  f1-score   support\n",
      "\n",
      "           0       0.87      0.78      0.82        89\n",
      "           1       0.71      0.83      0.76        58\n",
      "\n",
      "    accuracy                           0.80       147\n",
      "   macro avg       0.79      0.80      0.79       147\n",
      "weighted avg       0.81      0.80      0.80       147\n",
      "\n",
      "Tuned Model Parameters: {'Imputer__n_neighbors': 7, 'Logreg__C': 0.1}\n",
      "\n",
      "Confusion Matrix: \n",
      " [[69 20]\n",
      " [10 48]]\n"
     ]
    }
   ],
   "source": [
    "# Specify the hyperparameter space\n",
    "parameters = {'Imputer__n_neighbors': [3, 5, 7, 9], 'Logreg__C': [0.001, 0.1, 1, 10, 100]}   \n",
    "\n",
    "Logreg_pipeline(X_train, X_test, y_train, y_test, features, parameters)"
   ]
  },
  {
   "cell_type": "markdown",
   "metadata": {},
   "source": [
    "This does not do as well as Random Forest but outperforms SVC. It is possible that we could improve our logistic regression model if we were to do a log transform on some of the feature variables. That, however, I will leave for another time, as I'm happy with the performance of the Random Forest Classifier now. "
   ]
  },
  {
   "cell_type": "markdown",
   "metadata": {},
   "source": [
    "**Log Transform**"
   ]
  },
  {
   "cell_type": "code",
   "execution_count": 31,
   "metadata": {},
   "outputs": [],
   "source": [
    "# Let's try log-transforming Insulin and Diabetes Pedigree Function \n",
    "X_train['log_Insulin']=np.log(X_train['Insulin'])\n",
    "X_test['log_Insulin']=np.log(X_test['Insulin'])\n",
    "\n",
    "X_train['log_DPF']=np.log(X_train['DiabetesPedigreeFunction'])\n",
    "X_test['log_DPF']=np.log(X_test['DiabetesPedigreeFunction'])"
   ]
  },
  {
   "cell_type": "code",
   "execution_count": 33,
   "metadata": {},
   "outputs": [
    {
     "name": "stdout",
     "output_type": "stream",
     "text": [
      "              precision    recall  f1-score   support\n",
      "\n",
      "           0       0.87      0.74      0.80        89\n",
      "           1       0.68      0.83      0.74        58\n",
      "\n",
      "    accuracy                           0.78       147\n",
      "   macro avg       0.77      0.78      0.77       147\n",
      "weighted avg       0.79      0.78      0.78       147\n",
      "\n",
      "Tuned Model Parameters: {'Imputer__n_neighbors': 7, 'Logreg__C': 0.1}\n",
      "\n",
      "Confusion Matrix: \n",
      " [[66 23]\n",
      " [10 48]]\n"
     ]
    }
   ],
   "source": [
    "# Specify the features to select these log transforms instead\n",
    "features = ['Pregnancies', 'Glucose', 'BloodPressure', 'SkinThickness', 'log_Insulin',\\\n",
    "       'log_DPF', 'Age', \\\n",
    "       'BMI Category_Class II Obese', 'BMI Category_Class III Obese',\\\n",
    "       'BMI Category_Normal Weight', 'BMI Category_Overweight',\\\n",
    "       'BMI Category_Underweight']\n",
    "\n",
    "# Specify the hyperparameter space\n",
    "parameters = {'Imputer__n_neighbors': [3, 5, 7, 9], 'Logreg__C': [0.001, 0.1, 1, 10, 100]}   \n",
    "\n",
    "Logreg_pipeline(X_train, X_test, y_train, y_test, features, parameters)"
   ]
  },
  {
   "cell_type": "markdown",
   "metadata": {},
   "source": [
    "So that actually didn't help.  Our recall score stayed the same but our overall accuracy went down.  "
   ]
  },
  {
   "cell_type": "markdown",
   "metadata": {},
   "source": [
    "# Final Model Selection"
   ]
  },
  {
   "cell_type": "markdown",
   "metadata": {},
   "source": [
    "Our Random Forest Model is our clear best performer in terms of accuracy score and recall score.  This model is also intuitive and easy to explain.  \n",
    "\n",
    "Note that because we optimizing based on recall score, we are choosing to accept a fair number of false positives.  \n"
   ]
  },
  {
   "cell_type": "code",
   "execution_count": 43,
   "metadata": {},
   "outputs": [],
   "source": [
    "# Let's fit our final model on our final set of features, \n",
    "# our tuned hyperparameters, and our entire dataset\n",
    "\n",
    "X = pd.concat([X_train, X_test])\n",
    "y = np.array(pd.concat([y_train, y_test])).ravel()\n",
    "\n",
    "# Our final set of features\n",
    "features = ['Pregnancies', 'Glucose', 'BloodPressure', 'SkinThickness', 'Insulin',\\\n",
    "       'DiabetesPedigreeFunction', 'Age', \\\n",
    "       'BMI Category_Class II Obese', 'BMI Category_Class III Obese',\\\n",
    "       'BMI Category_Normal Weight', 'BMI Category_Overweight',\\\n",
    "       'BMI Category_Underweight']\n",
    "\n",
    "# Actually, for RF we don't need to scale the data so we can skip that step\n",
    "\n",
    "# But we'll impute the data \n",
    "imputer = KNNImputer(n_neighbors = 7)\n",
    "X_imp = imputer.fit_transform(X[features])\n",
    "\n",
    "# And SMOTE the data\n",
    "smote = SMOTE()\n",
    "X_sm, y_sm = smote.fit_resample(X_imp, y)\n",
    "\n",
    "# And finally fit our classifier\n",
    "RF = RandomForestClassifier(max_depth= 3, criterion = 'entropy', n_estimators = 500)  \n",
    "final_model = RF.fit(X_sm, y_sm);"
   ]
  },
  {
   "cell_type": "code",
   "execution_count": 44,
   "metadata": {},
   "outputs": [
    {
     "name": "stdout",
     "output_type": "stream",
     "text": [
      "Average accuracy score:\n",
      " 0.791\n",
      "Average recall score:\n",
      " 0.8389999999999999\n"
     ]
    }
   ],
   "source": [
    "# Let's just test this model's accuracy as a sanity check against a random 50% of the data\n",
    "# multiple times\n",
    "\n",
    "accuracy_scores=[]\n",
    "recall_scores=[]\n",
    "\n",
    "for i in range(10):\n",
    "    X_train, X_test, y_train, y_test = train_test_split(X[features], y, test_size = .5)\n",
    "\n",
    "    # Predict our test data\n",
    "    X_test_imp = imputer.fit_transform(X_test)\n",
    "    y_pred = final_model.predict(X_test_imp)\n",
    "\n",
    "    # Compute and print metrics\n",
    "    accuracy_scores.append(round(accuracy_score(y_test, y_pred),2))\n",
    "    recall_scores.append(round(recall_score(y_test, y_pred),2))\n",
    "    \n",
    "print('Average accuracy score:\\n', np.mean(accuracy_scores))\n",
    "print('Average recall score:\\n', np.mean(recall_scores))"
   ]
  },
  {
   "cell_type": "markdown",
   "metadata": {},
   "source": [
    "Our scores are slightly lower than what we saw from our model as optimized on the training set.  I believe this makes sense, because when trained on all of the data, we will end up with a slightly different estimator.  "
   ]
  },
  {
   "cell_type": "markdown",
   "metadata": {},
   "source": [
    "**ROC Curve**"
   ]
  },
  {
   "cell_type": "code",
   "execution_count": 45,
   "metadata": {},
   "outputs": [
    {
     "name": "stdout",
     "output_type": "stream",
     "text": [
      "ROC score:  0.8306254029658285\n"
     ]
    },
    {
     "data": {
      "image/png": "[encoded data removed]",
      "text/plain": [
       "<Figure size 432x288 with 1 Axes>"
      ]
     },
     "metadata": {
      "needs_background": "light"
     },
     "output_type": "display_data"
    }
   ],
   "source": [
    "y_pred_prob = final_model.predict_proba(X_test_imp)[:,1]\n",
    "fpr, tpr, thresholds = roc_curve(y_test, y_pred_prob)\n",
    "plt.plot([0,1],[0,1],'k--')\n",
    "plt.plot(fpr, tpr, label='Random Forest')\n",
    "plt.xlabel('False Positive Rate')\n",
    "plt.ylabel('True Positive Rate')\n",
    "plt.title('ROC Curve');\n",
    "\n",
    "print(\"ROC score: \", roc_auc_score(y_test, y_pred))"
   ]
  },
  {
   "cell_type": "markdown",
   "metadata": {},
   "source": [
    "**Feature Importance**"
   ]
  },
  {
   "cell_type": "code",
   "execution_count": 46,
   "metadata": {},
   "outputs": [
    {
     "name": "stdout",
     "output_type": "stream",
     "text": [
      "                              importance\n",
      "Glucose                         0.257037\n",
      "Insulin                         0.210925\n",
      "Age                             0.172250\n",
      "SkinThickness                   0.081292\n",
      "BMI Category_Normal Weight      0.079603\n",
      "Pregnancies                     0.075036\n",
      "DiabetesPedigreeFunction        0.052198\n",
      "BMI Category_Overweight         0.033086\n",
      "BloodPressure                   0.019341\n",
      "BMI Category_Class III Obese    0.012013\n",
      "BMI Category_Class II Obese     0.007181\n",
      "BMI Category_Underweight        0.000038\n"
     ]
    }
   ],
   "source": [
    "feature_importances = pd.DataFrame(final_model.feature_importances_, index = features,\\\n",
    "                                   columns=['importance']).sort_values('importance', ascending=False)\n",
    "print(feature_importances)"
   ]
  },
  {
   "cell_type": "markdown",
   "metadata": {},
   "source": [
    "As expected, Glucose was the most important feature, followed by Insulin and Age.  "
   ]
  },
  {
   "cell_type": "markdown",
   "metadata": {},
   "source": [
    "## Output Model"
   ]
  },
  {
   "cell_type": "code",
   "execution_count": 47,
   "metadata": {},
   "outputs": [],
   "source": [
    "import pickle\n",
    "modelpath = '../models/final_model.pkl'\n",
    "with open(modelpath, 'wb') as f:\n",
    "    pickle.dump(final_model, f)"
   ]
  }
 ],
 "metadata": {
  "kernelspec": {
   "display_name": "Python [conda env:TestEnv] *",
   "language": "python",
   "name": "conda-env-TestEnv-py"
  },
  "language_info": {
   "codemirror_mode": {
    "name": "ipython",
    "version": 3
   },
   "file_extension": ".py",
   "mimetype": "text/x-python",
   "name": "python",
   "nbconvert_exporter": "python",
   "pygments_lexer": "ipython3",
   "version": "3.8.2"
  }
 },
 "nbformat": 4,
 "nbformat_minor": 4
}
