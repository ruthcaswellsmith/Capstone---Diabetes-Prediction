{
 "cells": [
  {
   "cell_type": "markdown",
   "metadata": {},
   "source": [
    "# Capstone - Diabetes Prediction - Preprocessing and Training\n",
    "\n",
    "## Setup"
   ]
  },
  {
   "cell_type": "code",
   "execution_count": 1,
   "metadata": {},
   "outputs": [],
   "source": [
    "# import packages\n",
    "import pandas as pd\n",
    "import numpy as np\n",
    "import os\n",
    "from sklearn.model_selection import train_test_split"
   ]
  },
  {
   "cell_type": "markdown",
   "metadata": {},
   "source": [
    "## Import Data"
   ]
  },
  {
   "cell_type": "code",
   "execution_count": 2,
   "metadata": {},
   "outputs": [],
   "source": [
    "# Set path for our data that's gone through our datawrangling process\n",
    "dw_file = '../data/df_dw.csv'\n",
    "\n",
    "# Read raw data into a dataframe\n",
    "df_dw = pd.read_csv(dw_file)"
   ]
  },
  {
   "cell_type": "code",
   "execution_count": 3,
   "metadata": {},
   "outputs": [
    {
     "data": {
      "text/plain": [
       "Pregnancies                   int64\n",
       "Glucose                     float64\n",
       "BloodPressure               float64\n",
       "SkinThickness               float64\n",
       "Insulin                     float64\n",
       "BMI                         float64\n",
       "DiabetesPedigreeFunction    float64\n",
       "Age                           int64\n",
       "Outcome                       int64\n",
       "BMI Category                 object\n",
       "dtype: object"
      ]
     },
     "execution_count": 3,
     "metadata": {},
     "output_type": "execute_result"
    }
   ],
   "source": [
    "# Let's review our column names\n",
    "df_dw.dtypes"
   ]
  },
  {
   "cell_type": "markdown",
   "metadata": {},
   "source": [
    "## One-Hot-Encode Categorical Variables"
   ]
  },
  {
   "cell_type": "code",
   "execution_count": 4,
   "metadata": {},
   "outputs": [],
   "source": [
    "# Let's One-hot-encode the BMI Category.\n",
    "df_dw_ohe = pd.get_dummies(df_dw, drop_first = True)"
   ]
  },
  {
   "cell_type": "code",
   "execution_count": 5,
   "metadata": {},
   "outputs": [
    {
     "name": "stdout",
     "output_type": "stream",
     "text": [
      "<class 'pandas.core.frame.DataFrame'>\n",
      "RangeIndex: 733 entries, 0 to 732\n",
      "Data columns (total 14 columns):\n",
      " #   Column                        Non-Null Count  Dtype  \n",
      "---  ------                        --------------  -----  \n",
      " 0   Pregnancies                   733 non-null    int64  \n",
      " 1   Glucose                       728 non-null    float64\n",
      " 2   BloodPressure                 731 non-null    float64\n",
      " 3   SkinThickness                 541 non-null    float64\n",
      " 4   Insulin                       394 non-null    float64\n",
      " 5   BMI                           731 non-null    float64\n",
      " 6   DiabetesPedigreeFunction      733 non-null    float64\n",
      " 7   Age                           733 non-null    int64  \n",
      " 8   Outcome                       733 non-null    int64  \n",
      " 9   BMI Category_Class II Obese   733 non-null    uint8  \n",
      " 10  BMI Category_Class III Obese  733 non-null    uint8  \n",
      " 11  BMI Category_Normal Weight    733 non-null    uint8  \n",
      " 12  BMI Category_Overweight       733 non-null    uint8  \n",
      " 13  BMI Category_Underweight      733 non-null    uint8  \n",
      "dtypes: float64(6), int64(3), uint8(5)\n",
      "memory usage: 55.2 KB\n"
     ]
    }
   ],
   "source": [
    "df_dw_ohe.info()"
   ]
  },
  {
   "cell_type": "markdown",
   "metadata": {},
   "source": [
    "## Define X and y"
   ]
  },
  {
   "cell_type": "code",
   "execution_count": 6,
   "metadata": {},
   "outputs": [
    {
     "data": {
      "text/plain": [
       "Index(['Pregnancies', 'Glucose', 'BloodPressure', 'SkinThickness', 'Insulin',\n",
       "       'BMI', 'DiabetesPedigreeFunction', 'Age', 'BMI Category_Class II Obese',\n",
       "       'BMI Category_Class III Obese', 'BMI Category_Normal Weight',\n",
       "       'BMI Category_Overweight', 'BMI Category_Underweight'],\n",
       "      dtype='object')"
      ]
     },
     "execution_count": 6,
     "metadata": {},
     "output_type": "execute_result"
    }
   ],
   "source": [
    "# Let's create our X and y, and then we can create a model for various subsets of features\n",
    "X = df_dw_ohe.drop('Outcome',axis = 1)\n",
    "y = df_dw_ohe['Outcome']\n",
    "\n",
    "X.columns"
   ]
  },
  {
   "cell_type": "markdown",
   "metadata": {},
   "source": [
    "## Split into Train and Test Set"
   ]
  },
  {
   "cell_type": "code",
   "execution_count": 7,
   "metadata": {},
   "outputs": [],
   "source": [
    "# Create train and test sets\n",
    "X_train, X_test, y_train, y_test = train_test_split(X, y, test_size = .2, random_state=12)"
   ]
  },
  {
   "cell_type": "markdown",
   "metadata": {},
   "source": [
    "## Save Data"
   ]
  },
  {
   "cell_type": "code",
   "execution_count": 8,
   "metadata": {},
   "outputs": [],
   "source": [
    "# We're going to save our training and test sets to csv files\n",
    "\n",
    "datapath = '../data'\n",
    "datapath_X_train = os.path.join(datapath, 'X_train.csv')\n",
    "datapath_X_test = os.path.join(datapath, 'X_test.csv')\n",
    "datapath_y_train = os.path.join(datapath, 'y_train.csv')\n",
    "datapath_y_test = os.path.join(datapath, 'y_test.csv')\n",
    "X_train.to_csv(datapath_X_train, index=False)\n",
    "X_test.to_csv(datapath_X_test, index=False)\n",
    "y_train.to_csv(datapath_y_train, index=False)\n",
    "y_test.to_csv(datapath_y_test, index=False)"
   ]
  }
 ],
 "metadata": {
  "kernelspec": {
   "display_name": "Python [conda env:TestEnv] *",
   "language": "python",
   "name": "conda-env-TestEnv-py"
  },
  "language_info": {
   "codemirror_mode": {
    "name": "ipython",
    "version": 3
   },
   "file_extension": ".py",
   "mimetype": "text/x-python",
   "name": "python",
   "nbconvert_exporter": "python",
   "pygments_lexer": "ipython3",
   "version": "3.8.2"
  }
 },
 "nbformat": 4,
 "nbformat_minor": 4
}
