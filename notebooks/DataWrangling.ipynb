{
 "cells": [
  {
   "cell_type": "markdown",
   "metadata": {},
   "source": [
    "# Capstone - Diabetes Prediction - Data Wrangling\n",
    "\n",
    "\n",
    "## Setup"
   ]
  },
  {
   "cell_type": "code",
   "execution_count": 1,
   "metadata": {},
   "outputs": [],
   "source": [
    "# import packages\n",
    "import pandas as pd\n",
    "import numpy as np\n",
    "import matplotlib.pyplot as plt\n",
    "import seaborn as sns\n",
    "import os"
   ]
  },
  {
   "cell_type": "code",
   "execution_count": 3,
   "metadata": {},
   "outputs": [],
   "source": [
    "# Set path for our raw data\n",
    "raw_file = '../data/diabetes.csv'\n",
    "\n",
    "# Read raw data into a dataframe\n",
    "df_raw = pd.read_csv(raw_file)\n",
    "\n",
    "# Set path for saving our plots\n",
    "plot_path = '../reports/figures'"
   ]
  },
  {
   "cell_type": "markdown",
   "metadata": {},
   "source": [
    "## Analyzing Missing Values"
   ]
  },
  {
   "cell_type": "code",
   "execution_count": 4,
   "metadata": {},
   "outputs": [
    {
     "name": "stdout",
     "output_type": "stream",
     "text": [
      "<class 'pandas.core.frame.DataFrame'>\n",
      "RangeIndex: 768 entries, 0 to 767\n",
      "Data columns (total 9 columns):\n",
      " #   Column                    Non-Null Count  Dtype  \n",
      "---  ------                    --------------  -----  \n",
      " 0   Pregnancies               768 non-null    int64  \n",
      " 1   Glucose                   768 non-null    int64  \n",
      " 2   BloodPressure             768 non-null    int64  \n",
      " 3   SkinThickness             768 non-null    int64  \n",
      " 4   Insulin                   768 non-null    int64  \n",
      " 5   BMI                       768 non-null    float64\n",
      " 6   DiabetesPedigreeFunction  768 non-null    float64\n",
      " 7   Age                       768 non-null    int64  \n",
      " 8   Outcome                   768 non-null    int64  \n",
      "dtypes: float64(2), int64(7)\n",
      "memory usage: 54.1 KB\n"
     ]
    }
   ],
   "source": [
    "# Get some basic info on the raw data\n",
    "df_raw.info()"
   ]
  },
  {
   "cell_type": "markdown",
   "metadata": {},
   "source": [
    "We can see that we have 768 instances of data with 7 attributes and one target, which should be binary.  It appears that we have no null data, however we will need to verify that missing values aren't coded as something else, such as 0.  Our column headings are descriptive so we don't need to change those.  Let's take a look at the first few rows. "
   ]
  },
  {
   "cell_type": "code",
   "execution_count": 5,
   "metadata": {},
   "outputs": [
    {
     "data": {
      "text/html": [
       "<div>\n",
       "<style scoped>\n",
       "    .dataframe tbody tr th:only-of-type {\n",
       "        vertical-align: middle;\n",
       "    }\n",
       "\n",
       "    .dataframe tbody tr th {\n",
       "        vertical-align: top;\n",
       "    }\n",
       "\n",
       "    .dataframe thead th {\n",
       "        text-align: right;\n",
       "    }\n",
       "</style>\n",
       "<table border=\"1\" class=\"dataframe\">\n",
       "  <thead>\n",
       "    <tr style=\"text-align: right;\">\n",
       "      <th></th>\n",
       "      <th>Pregnancies</th>\n",
       "      <th>Glucose</th>\n",
       "      <th>BloodPressure</th>\n",
       "      <th>SkinThickness</th>\n",
       "      <th>Insulin</th>\n",
       "      <th>BMI</th>\n",
       "      <th>DiabetesPedigreeFunction</th>\n",
       "      <th>Age</th>\n",
       "      <th>Outcome</th>\n",
       "    </tr>\n",
       "  </thead>\n",
       "  <tbody>\n",
       "    <tr>\n",
       "      <th>0</th>\n",
       "      <td>6</td>\n",
       "      <td>148</td>\n",
       "      <td>72</td>\n",
       "      <td>35</td>\n",
       "      <td>0</td>\n",
       "      <td>33.6</td>\n",
       "      <td>0.627</td>\n",
       "      <td>50</td>\n",
       "      <td>1</td>\n",
       "    </tr>\n",
       "    <tr>\n",
       "      <th>1</th>\n",
       "      <td>1</td>\n",
       "      <td>85</td>\n",
       "      <td>66</td>\n",
       "      <td>29</td>\n",
       "      <td>0</td>\n",
       "      <td>26.6</td>\n",
       "      <td>0.351</td>\n",
       "      <td>31</td>\n",
       "      <td>0</td>\n",
       "    </tr>\n",
       "    <tr>\n",
       "      <th>2</th>\n",
       "      <td>8</td>\n",
       "      <td>183</td>\n",
       "      <td>64</td>\n",
       "      <td>0</td>\n",
       "      <td>0</td>\n",
       "      <td>23.3</td>\n",
       "      <td>0.672</td>\n",
       "      <td>32</td>\n",
       "      <td>1</td>\n",
       "    </tr>\n",
       "    <tr>\n",
       "      <th>3</th>\n",
       "      <td>1</td>\n",
       "      <td>89</td>\n",
       "      <td>66</td>\n",
       "      <td>23</td>\n",
       "      <td>94</td>\n",
       "      <td>28.1</td>\n",
       "      <td>0.167</td>\n",
       "      <td>21</td>\n",
       "      <td>0</td>\n",
       "    </tr>\n",
       "    <tr>\n",
       "      <th>4</th>\n",
       "      <td>0</td>\n",
       "      <td>137</td>\n",
       "      <td>40</td>\n",
       "      <td>35</td>\n",
       "      <td>168</td>\n",
       "      <td>43.1</td>\n",
       "      <td>2.288</td>\n",
       "      <td>33</td>\n",
       "      <td>1</td>\n",
       "    </tr>\n",
       "  </tbody>\n",
       "</table>\n",
       "</div>"
      ],
      "text/plain": [
       "   Pregnancies  Glucose  BloodPressure  SkinThickness  Insulin   BMI  \\\n",
       "0            6      148             72             35        0  33.6   \n",
       "1            1       85             66             29        0  26.6   \n",
       "2            8      183             64              0        0  23.3   \n",
       "3            1       89             66             23       94  28.1   \n",
       "4            0      137             40             35      168  43.1   \n",
       "\n",
       "   DiabetesPedigreeFunction  Age  Outcome  \n",
       "0                     0.627   50        1  \n",
       "1                     0.351   31        0  \n",
       "2                     0.672   32        1  \n",
       "3                     0.167   21        0  \n",
       "4                     2.288   33        1  "
      ]
     },
     "execution_count": 5,
     "metadata": {},
     "output_type": "execute_result"
    }
   ],
   "source": [
    "df_raw.head()"
   ]
  },
  {
   "cell_type": "markdown",
   "metadata": {},
   "source": [
    "Now we can see that our index is just a range, which is fine.  We can also see that we have some values of 0 for insulin and skin thickness, so those appear to be missing data. Let's see how many values of 0 we have for the various attributes (We won't check pregnancies since it is perfectly feasible that a woman may not have had any pregnancies)."
   ]
  },
  {
   "cell_type": "code",
   "execution_count": 6,
   "metadata": {},
   "outputs": [
    {
     "data": {
      "text/html": [
       "<div>\n",
       "<style scoped>\n",
       "    .dataframe tbody tr th:only-of-type {\n",
       "        vertical-align: middle;\n",
       "    }\n",
       "\n",
       "    .dataframe tbody tr th {\n",
       "        vertical-align: top;\n",
       "    }\n",
       "\n",
       "    .dataframe thead th {\n",
       "        text-align: right;\n",
       "    }\n",
       "</style>\n",
       "<table border=\"1\" class=\"dataframe\">\n",
       "  <thead>\n",
       "    <tr style=\"text-align: right;\">\n",
       "      <th></th>\n",
       "      <th>count</th>\n",
       "      <th>%</th>\n",
       "    </tr>\n",
       "  </thead>\n",
       "  <tbody>\n",
       "    <tr>\n",
       "      <th>Outcome</th>\n",
       "      <td>500</td>\n",
       "      <td>65.104167</td>\n",
       "    </tr>\n",
       "    <tr>\n",
       "      <th>Insulin</th>\n",
       "      <td>374</td>\n",
       "      <td>48.697917</td>\n",
       "    </tr>\n",
       "    <tr>\n",
       "      <th>SkinThickness</th>\n",
       "      <td>227</td>\n",
       "      <td>29.557292</td>\n",
       "    </tr>\n",
       "    <tr>\n",
       "      <th>Pregnancies</th>\n",
       "      <td>111</td>\n",
       "      <td>14.453125</td>\n",
       "    </tr>\n",
       "    <tr>\n",
       "      <th>BloodPressure</th>\n",
       "      <td>35</td>\n",
       "      <td>4.557292</td>\n",
       "    </tr>\n",
       "    <tr>\n",
       "      <th>BMI</th>\n",
       "      <td>11</td>\n",
       "      <td>1.432292</td>\n",
       "    </tr>\n",
       "    <tr>\n",
       "      <th>Glucose</th>\n",
       "      <td>5</td>\n",
       "      <td>0.651042</td>\n",
       "    </tr>\n",
       "    <tr>\n",
       "      <th>DiabetesPedigreeFunction</th>\n",
       "      <td>0</td>\n",
       "      <td>0.000000</td>\n",
       "    </tr>\n",
       "    <tr>\n",
       "      <th>Age</th>\n",
       "      <td>0</td>\n",
       "      <td>0.000000</td>\n",
       "    </tr>\n",
       "  </tbody>\n",
       "</table>\n",
       "</div>"
      ],
      "text/plain": [
       "                          count          %\n",
       "Outcome                     500  65.104167\n",
       "Insulin                     374  48.697917\n",
       "SkinThickness               227  29.557292\n",
       "Pregnancies                 111  14.453125\n",
       "BloodPressure                35   4.557292\n",
       "BMI                          11   1.432292\n",
       "Glucose                       5   0.651042\n",
       "DiabetesPedigreeFunction      0   0.000000\n",
       "Age                           0   0.000000"
      ]
     },
     "execution_count": 6,
     "metadata": {},
     "output_type": "execute_result"
    }
   ],
   "source": [
    "# Lets create a dataframe to show zero (possibly missing) values\n",
    "df_zeros = pd.concat([df_raw.shape[0] - df_raw.astype(bool).sum(axis=0), \\\n",
    "                      100 * (df_raw.shape[0] - df_raw.astype(bool).sum(axis=0))/df_raw.shape[0]], axis=1)\n",
    "df_zeros.columns=['count', '%']\n",
    "df_zeros.sort_values(by='count', ascending=False)"
   ]
  },
  {
   "cell_type": "markdown",
   "metadata": {},
   "source": [
    "So we definitely have some missing data. Using common sense, the only attributes where a value of zero is valid are Outcome and Pregnancies.  All others should have no zero values, so let's replace them with NaN so that our calculations going forward are not thrown off by the zero values.  "
   ]
  },
  {
   "cell_type": "code",
   "execution_count": 7,
   "metadata": {},
   "outputs": [],
   "source": [
    "# We're going to start changing things, so let's make a copy of the raw data frame\n",
    "df_dw = df_raw.copy()\n",
    "\n",
    "df_dw.loc[(df_dw['Glucose']==0,'Glucose')]=np.nan\n",
    "df_dw.loc[(df_dw['BloodPressure']==0,'BloodPressure')]=np.nan\n",
    "df_dw.loc[(df_dw['SkinThickness']==0,'SkinThickness')]=np.nan\n",
    "df_dw.loc[(df_dw['Insulin']==0,'Insulin')]=np.nan\n",
    "df_dw.loc[(df_dw['BMI']==0,'BMI')]=np.nan"
   ]
  },
  {
   "cell_type": "code",
   "execution_count": 8,
   "metadata": {},
   "outputs": [
    {
     "data": {
      "text/html": [
       "<div>\n",
       "<style scoped>\n",
       "    .dataframe tbody tr th:only-of-type {\n",
       "        vertical-align: middle;\n",
       "    }\n",
       "\n",
       "    .dataframe tbody tr th {\n",
       "        vertical-align: top;\n",
       "    }\n",
       "\n",
       "    .dataframe thead th {\n",
       "        text-align: right;\n",
       "    }\n",
       "</style>\n",
       "<table border=\"1\" class=\"dataframe\">\n",
       "  <thead>\n",
       "    <tr style=\"text-align: right;\">\n",
       "      <th></th>\n",
       "      <th>count</th>\n",
       "      <th>%</th>\n",
       "    </tr>\n",
       "  </thead>\n",
       "  <tbody>\n",
       "    <tr>\n",
       "      <th>Outcome</th>\n",
       "      <td>500</td>\n",
       "      <td>65.104167</td>\n",
       "    </tr>\n",
       "    <tr>\n",
       "      <th>Pregnancies</th>\n",
       "      <td>111</td>\n",
       "      <td>14.453125</td>\n",
       "    </tr>\n",
       "    <tr>\n",
       "      <th>Glucose</th>\n",
       "      <td>0</td>\n",
       "      <td>0.000000</td>\n",
       "    </tr>\n",
       "    <tr>\n",
       "      <th>BloodPressure</th>\n",
       "      <td>0</td>\n",
       "      <td>0.000000</td>\n",
       "    </tr>\n",
       "    <tr>\n",
       "      <th>SkinThickness</th>\n",
       "      <td>0</td>\n",
       "      <td>0.000000</td>\n",
       "    </tr>\n",
       "    <tr>\n",
       "      <th>Insulin</th>\n",
       "      <td>0</td>\n",
       "      <td>0.000000</td>\n",
       "    </tr>\n",
       "    <tr>\n",
       "      <th>BMI</th>\n",
       "      <td>0</td>\n",
       "      <td>0.000000</td>\n",
       "    </tr>\n",
       "    <tr>\n",
       "      <th>DiabetesPedigreeFunction</th>\n",
       "      <td>0</td>\n",
       "      <td>0.000000</td>\n",
       "    </tr>\n",
       "    <tr>\n",
       "      <th>Age</th>\n",
       "      <td>0</td>\n",
       "      <td>0.000000</td>\n",
       "    </tr>\n",
       "  </tbody>\n",
       "</table>\n",
       "</div>"
      ],
      "text/plain": [
       "                          count          %\n",
       "Outcome                     500  65.104167\n",
       "Pregnancies                 111  14.453125\n",
       "Glucose                       0   0.000000\n",
       "BloodPressure                 0   0.000000\n",
       "SkinThickness                 0   0.000000\n",
       "Insulin                       0   0.000000\n",
       "BMI                           0   0.000000\n",
       "DiabetesPedigreeFunction      0   0.000000\n",
       "Age                           0   0.000000"
      ]
     },
     "execution_count": 8,
     "metadata": {},
     "output_type": "execute_result"
    }
   ],
   "source": [
    "# And we'll check that worked\n",
    "df_zeros = pd.concat([df_dw.shape[0] - df_dw.astype(bool).sum(axis=0), \\\n",
    "                      100 * (df_dw.shape[0] - df_dw.astype(bool).sum(axis=0))/df_dw.shape[0]], axis=1)\n",
    "df_zeros.columns=['count', '%']\n",
    "df_zeros.sort_values(by='count', ascending=False)"
   ]
  },
  {
   "cell_type": "code",
   "execution_count": 9,
   "metadata": {},
   "outputs": [
    {
     "name": "stdout",
     "output_type": "stream",
     "text": [
      "<class 'pandas.core.frame.DataFrame'>\n",
      "RangeIndex: 768 entries, 0 to 767\n",
      "Data columns (total 9 columns):\n",
      " #   Column                    Non-Null Count  Dtype  \n",
      "---  ------                    --------------  -----  \n",
      " 0   Pregnancies               768 non-null    int64  \n",
      " 1   Glucose                   763 non-null    float64\n",
      " 2   BloodPressure             733 non-null    float64\n",
      " 3   SkinThickness             541 non-null    float64\n",
      " 4   Insulin                   394 non-null    float64\n",
      " 5   BMI                       757 non-null    float64\n",
      " 6   DiabetesPedigreeFunction  768 non-null    float64\n",
      " 7   Age                       768 non-null    int64  \n",
      " 8   Outcome                   768 non-null    int64  \n",
      "dtypes: float64(6), int64(3)\n",
      "memory usage: 54.1 KB\n"
     ]
    }
   ],
   "source": [
    "# And we can also check this way\n",
    "df_dw.info()"
   ]
  },
  {
   "cell_type": "code",
   "execution_count": 10,
   "metadata": {},
   "outputs": [
    {
     "data": {
      "text/plain": [
       "4      7\n",
       "3     28\n",
       "2    199\n",
       "1    142\n",
       "0    392\n",
       "dtype: int64"
      ]
     },
     "execution_count": 10,
     "metadata": {},
     "output_type": "execute_result"
    }
   ],
   "source": [
    "# So now let's look for patterns in our missing data.  \n",
    "# Do the same records tend to have multiple missing values?  \n",
    "num_cols = len(df_dw.columns)\n",
    "(num_cols - df_dw.count(axis=1)).value_counts().sort_index(ascending=False)"
   ]
  },
  {
   "cell_type": "markdown",
   "metadata": {},
   "source": [
    "So we can see that we have 7 rows with 4 missing values, 28 rows with 3 missing values, and 199 rows with 2 missing values, etc....\n",
    "It makes sense to drop the 35 rows that have 3 or 4 missing attributes so let's do that."
   ]
  },
  {
   "cell_type": "code",
   "execution_count": 11,
   "metadata": {},
   "outputs": [
    {
     "data": {
      "text/plain": [
       "2    199\n",
       "1    142\n",
       "0    392\n",
       "dtype: int64"
      ]
     },
     "execution_count": 11,
     "metadata": {},
     "output_type": "execute_result"
    }
   ],
   "source": [
    "# Drop rows which have 3 or 4 missing attributes\n",
    "df_dw = df_dw[~(num_cols - df_dw.count(axis=1)).isin([3,4])]\n",
    "\n",
    "# Look at missing values again\n",
    "(num_cols - df_dw.count(axis=1)).value_counts().sort_index(ascending=False)"
   ]
  },
  {
   "cell_type": "code",
   "execution_count": 12,
   "metadata": {},
   "outputs": [
    {
     "name": "stdout",
     "output_type": "stream",
     "text": [
      "<class 'pandas.core.frame.DataFrame'>\n",
      "Int64Index: 733 entries, 0 to 767\n",
      "Data columns (total 9 columns):\n",
      " #   Column                    Non-Null Count  Dtype  \n",
      "---  ------                    --------------  -----  \n",
      " 0   Pregnancies               733 non-null    int64  \n",
      " 1   Glucose                   728 non-null    float64\n",
      " 2   BloodPressure             731 non-null    float64\n",
      " 3   SkinThickness             541 non-null    float64\n",
      " 4   Insulin                   394 non-null    float64\n",
      " 5   BMI                       731 non-null    float64\n",
      " 6   DiabetesPedigreeFunction  733 non-null    float64\n",
      " 7   Age                       733 non-null    int64  \n",
      " 8   Outcome                   733 non-null    int64  \n",
      "dtypes: float64(6), int64(3)\n",
      "memory usage: 57.3 KB\n"
     ]
    }
   ],
   "source": [
    "df_dw.info()"
   ]
  },
  {
   "cell_type": "markdown",
   "metadata": {},
   "source": [
    "So now we have rows with either 1 or 2 missing attributes, which we know are most commonly SkinThickness and Insulin. \n",
    "We can also see that if they are both missing they tend to occur on the same row, which is good.   "
   ]
  },
  {
   "cell_type": "code",
   "execution_count": 13,
   "metadata": {},
   "outputs": [
    {
     "data": {
      "text/plain": [
       "1      9\n",
       "0    724\n",
       "dtype: int64"
      ]
     },
     "execution_count": 13,
     "metadata": {},
     "output_type": "execute_result"
    }
   ],
   "source": [
    "# What would our data look like if we dropped these columns?  \n",
    "(num_cols -2 - df_dw.drop(['Insulin','SkinThickness'], axis=1).count(axis=1)).value_counts().sort_index(ascending=False)"
   ]
  },
  {
   "cell_type": "markdown",
   "metadata": {},
   "source": [
    "If we were to drop both these columns, we would only have 9 records with missing values which we could impute.  But we won't make that decision yet. Instead we'll see during EDA whether it makes sense to drop these columns or impute the missing values.  "
   ]
  },
  {
   "cell_type": "markdown",
   "metadata": {},
   "source": [
    "## Identifying and Dropping Outliers\n",
    "Now we can run a statistical analysis without the zero values throwing off our calculations.\n",
    "Let's look for outliers.  "
   ]
  },
  {
   "cell_type": "code",
   "execution_count": 14,
   "metadata": {},
   "outputs": [
    {
     "data": {
      "text/html": [
       "<div>\n",
       "<style scoped>\n",
       "    .dataframe tbody tr th:only-of-type {\n",
       "        vertical-align: middle;\n",
       "    }\n",
       "\n",
       "    .dataframe tbody tr th {\n",
       "        vertical-align: top;\n",
       "    }\n",
       "\n",
       "    .dataframe thead th {\n",
       "        text-align: right;\n",
       "    }\n",
       "</style>\n",
       "<table border=\"1\" class=\"dataframe\">\n",
       "  <thead>\n",
       "    <tr style=\"text-align: right;\">\n",
       "      <th></th>\n",
       "      <th>Pregnancies</th>\n",
       "      <th>Glucose</th>\n",
       "      <th>BloodPressure</th>\n",
       "      <th>SkinThickness</th>\n",
       "      <th>Insulin</th>\n",
       "      <th>BMI</th>\n",
       "      <th>DiabetesPedigreeFunction</th>\n",
       "      <th>Age</th>\n",
       "      <th>Outcome</th>\n",
       "    </tr>\n",
       "  </thead>\n",
       "  <tbody>\n",
       "    <tr>\n",
       "      <th>count</th>\n",
       "      <td>733.000000</td>\n",
       "      <td>728.000000</td>\n",
       "      <td>731.000000</td>\n",
       "      <td>541.000000</td>\n",
       "      <td>394.000000</td>\n",
       "      <td>731.000000</td>\n",
       "      <td>733.000000</td>\n",
       "      <td>733.000000</td>\n",
       "      <td>733.000000</td>\n",
       "    </tr>\n",
       "    <tr>\n",
       "      <th>mean</th>\n",
       "      <td>3.858117</td>\n",
       "      <td>121.811813</td>\n",
       "      <td>72.359781</td>\n",
       "      <td>29.153420</td>\n",
       "      <td>155.548223</td>\n",
       "      <td>32.475239</td>\n",
       "      <td>0.476502</td>\n",
       "      <td>33.287858</td>\n",
       "      <td>0.343793</td>\n",
       "    </tr>\n",
       "    <tr>\n",
       "      <th>std</th>\n",
       "      <td>3.372025</td>\n",
       "      <td>30.702845</td>\n",
       "      <td>12.363134</td>\n",
       "      <td>10.476982</td>\n",
       "      <td>118.775855</td>\n",
       "      <td>6.882424</td>\n",
       "      <td>0.334200</td>\n",
       "      <td>11.749216</td>\n",
       "      <td>0.475297</td>\n",
       "    </tr>\n",
       "    <tr>\n",
       "      <th>min</th>\n",
       "      <td>0.000000</td>\n",
       "      <td>44.000000</td>\n",
       "      <td>24.000000</td>\n",
       "      <td>7.000000</td>\n",
       "      <td>14.000000</td>\n",
       "      <td>18.200000</td>\n",
       "      <td>0.078000</td>\n",
       "      <td>21.000000</td>\n",
       "      <td>0.000000</td>\n",
       "    </tr>\n",
       "    <tr>\n",
       "      <th>25%</th>\n",
       "      <td>1.000000</td>\n",
       "      <td>99.750000</td>\n",
       "      <td>64.000000</td>\n",
       "      <td>22.000000</td>\n",
       "      <td>76.250000</td>\n",
       "      <td>27.500000</td>\n",
       "      <td>0.245000</td>\n",
       "      <td>24.000000</td>\n",
       "      <td>0.000000</td>\n",
       "    </tr>\n",
       "    <tr>\n",
       "      <th>50%</th>\n",
       "      <td>3.000000</td>\n",
       "      <td>117.000000</td>\n",
       "      <td>72.000000</td>\n",
       "      <td>29.000000</td>\n",
       "      <td>125.000000</td>\n",
       "      <td>32.400000</td>\n",
       "      <td>0.380000</td>\n",
       "      <td>29.000000</td>\n",
       "      <td>0.000000</td>\n",
       "    </tr>\n",
       "    <tr>\n",
       "      <th>75%</th>\n",
       "      <td>6.000000</td>\n",
       "      <td>141.250000</td>\n",
       "      <td>80.000000</td>\n",
       "      <td>36.000000</td>\n",
       "      <td>190.000000</td>\n",
       "      <td>36.600000</td>\n",
       "      <td>0.629000</td>\n",
       "      <td>41.000000</td>\n",
       "      <td>1.000000</td>\n",
       "    </tr>\n",
       "    <tr>\n",
       "      <th>max</th>\n",
       "      <td>17.000000</td>\n",
       "      <td>199.000000</td>\n",
       "      <td>122.000000</td>\n",
       "      <td>99.000000</td>\n",
       "      <td>846.000000</td>\n",
       "      <td>67.100000</td>\n",
       "      <td>2.420000</td>\n",
       "      <td>81.000000</td>\n",
       "      <td>1.000000</td>\n",
       "    </tr>\n",
       "  </tbody>\n",
       "</table>\n",
       "</div>"
      ],
      "text/plain": [
       "       Pregnancies     Glucose  BloodPressure  SkinThickness     Insulin  \\\n",
       "count   733.000000  728.000000     731.000000     541.000000  394.000000   \n",
       "mean      3.858117  121.811813      72.359781      29.153420  155.548223   \n",
       "std       3.372025   30.702845      12.363134      10.476982  118.775855   \n",
       "min       0.000000   44.000000      24.000000       7.000000   14.000000   \n",
       "25%       1.000000   99.750000      64.000000      22.000000   76.250000   \n",
       "50%       3.000000  117.000000      72.000000      29.000000  125.000000   \n",
       "75%       6.000000  141.250000      80.000000      36.000000  190.000000   \n",
       "max      17.000000  199.000000     122.000000      99.000000  846.000000   \n",
       "\n",
       "              BMI  DiabetesPedigreeFunction         Age     Outcome  \n",
       "count  731.000000                733.000000  733.000000  733.000000  \n",
       "mean    32.475239                  0.476502   33.287858    0.343793  \n",
       "std      6.882424                  0.334200   11.749216    0.475297  \n",
       "min     18.200000                  0.078000   21.000000    0.000000  \n",
       "25%     27.500000                  0.245000   24.000000    0.000000  \n",
       "50%     32.400000                  0.380000   29.000000    0.000000  \n",
       "75%     36.600000                  0.629000   41.000000    1.000000  \n",
       "max     67.100000                  2.420000   81.000000    1.000000  "
      ]
     },
     "execution_count": 14,
     "metadata": {},
     "output_type": "execute_result"
    }
   ],
   "source": [
    "df_dw.describe()"
   ]
  },
  {
   "cell_type": "markdown",
   "metadata": {},
   "source": [
    "**Pregnancies** Hmmm...17 pregnancies seems like a lot, but I suppose it's possible if they didn't all end in live births.<br>**Glucose** Seems like we might have an outliers on either side.<br>**Blood Pressure** Looks like we might have some values on the high end.<br>**SkinThickness** This has some extreme data on the high end.<br>**Insulin** Seems like we might have some outliers so we'll need to look at more closely.<br>**BMI** Some of these BMI's seem high.<br>**DiabetesPedigreeFunction** Looks like possibly some outliers on the high end<br>**Age** Looks reasonable"
   ]
  },
  {
   "cell_type": "code",
   "execution_count": 15,
   "metadata": {
    "scrolled": false
   },
   "outputs": [
    {
     "data": {
      "image/png": "[encoded data removed]",
      "text/plain": [
       "<Figure size 1080x720 with 9 Axes>"
      ]
     },
     "metadata": {},
     "output_type": "display_data"
    }
   ],
   "source": [
    "# Let's create histograms to see what the distribution looks and look for outliers\n",
    "sns.set()\n",
    "df_dw.loc[:, df_dw.columns != 'Outcome'].hist(figsize=(15,10), bins=30, color='darkslateblue')\n",
    "plt.subplots_adjust(hspace=0.5)\n",
    "fig_path = os.path.join(plot_path, 'feat_dist.png')\n",
    "plt.savefig(fig_path, dpi=300);"
   ]
  },
  {
   "cell_type": "markdown",
   "metadata": {},
   "source": [
    "**Age** Looks reasonable.<br>**BMI** There are some outliers on the high end but it appears generally normal.<br>**Blood Pressure** May be some outliers on the low end.<br>**DiabetesPedigreeFunction** This appears exponentially distributed in which case it will be difficult to identifier outliers.<br>**Glucose** This data looks like it's skewed to the right a bit but there don't appear to be outliers.<br>**Insulin** There appear to be some real outliers.<br>**Pregnancies** Looks a bit like it's an exponential distribution which intuitively makes sense.<br>**SkinThickness** There seem to be some outliers on the high end but it appears generally normal."
   ]
  },
  {
   "cell_type": "code",
   "execution_count": 16,
   "metadata": {},
   "outputs": [],
   "source": [
    "# We'll define a function to return outliers for a series based on IQR\n",
    "def return_outliers(S):\n",
    "    \"\"\"\" returns outliers in a series based on elements being > 1.5*IQR above 3rd quartile\n",
    "    or 1.5*IQR below 1st quartile \"\"\"\n",
    "    \n",
    "    # Calculate 1st and 3rd quartiles and IQR\n",
    "    p_25 = np.percentile(S, 25)\n",
    "    p_75 = np.percentile(S, 75)\n",
    "    iqr = p_75 - p_25\n",
    "\n",
    "    # return outliers\n",
    "    return S[((S>(1.5*iqr + p_75)) | (S<(p_25 - 1.5*iqr)))]"
   ]
  },
  {
   "cell_type": "code",
   "execution_count": 17,
   "metadata": {},
   "outputs": [
    {
     "name": "stdout",
     "output_type": "stream",
     "text": [
      "BMI Outliers: \n",
      " 177    67.1\n",
      "445    59.4\n",
      "673    57.3\n",
      "125    55.0\n",
      "120    53.2\n",
      "303    52.9\n",
      "247    52.3\n",
      "Name: BMI, dtype: float64 \n",
      "\n",
      "SkinThickness: \n",
      " 579    99.0\n",
      "445    63.0\n",
      "57     60.0\n",
      "Name: SkinThickness, dtype: float64 \n",
      "\n",
      "BloodPressure: \n",
      " 106    122.0\n",
      "691    114.0\n",
      "549    110.0\n",
      "177    110.0\n",
      "43     110.0\n",
      "362    108.0\n",
      "84     108.0\n",
      "672    106.0\n",
      "662    106.0\n",
      "658    106.0\n",
      "599     38.0\n",
      "125     30.0\n",
      "18      30.0\n",
      "597     24.0\n",
      "Name: BloodPressure, dtype: float64 \n",
      "\n"
     ]
    }
   ],
   "source": [
    "# Calculating outlers based on IQR really only makes sense for nomal distributions, so we'll\n",
    "# apply this function to BMI, Skin Thickness, and Blood Pressure.\n",
    "# Note that Insulin and Diabetes Pedigree Function appear to be exponentially distributed.\n",
    "\n",
    "# Let's identify outliers based on the IQR for BMI and Skin Thickness\n",
    "print('BMI Outliers: \\n', \\\n",
    "      return_outliers(df_dw[df_dw['BMI'].notnull()]['BMI']).sort_values(ascending=False),\"\\n\")\n",
    "print('SkinThickness: \\n', \\\n",
    "      return_outliers(df_dw[df_dw['SkinThickness'].notnull()]['SkinThickness']).sort_values(ascending=False),\"\\n\")\n",
    "print('BloodPressure: \\n', \\\n",
    "      return_outliers(df_dw[df_dw['BloodPressure'].notnull()]['BloodPressure']).sort_values(ascending=False),\"\\n\")"
   ]
  },
  {
   "cell_type": "code",
   "execution_count": 18,
   "metadata": {
    "scrolled": false
   },
   "outputs": [
    {
     "data": {
      "image/png": "[encoded data removed]",
      "text/plain": [
       "<Figure size 720x432 with 1 Axes>"
      ]
     },
     "metadata": {},
     "output_type": "display_data"
    }
   ],
   "source": [
    "#Let's also visualize this using Seaborn\n",
    "plt.figure(figsize=(10, 6))\n",
    "sns.boxplot(x=\"variable\", y=\"value\", data=pd.melt(df_dw[['BMI','SkinThickness','BloodPressure']]), palette='Purples')\n",
    "fig_path = os.path.join(plot_path, 'outliers.png')\n",
    "plt.savefig(fig_path, dpi=300);\n",
    "plt.show()"
   ]
  },
  {
   "cell_type": "markdown",
   "metadata": {},
   "source": [
    "I am hesitant to remove these outliers because it's not clear that they are actually invalid data, and we don't have a lot of data to start with.  We know that logistic regression is susceptible to outliers but random forest not so much. Perhaps we run our models, and then we come back to this step later on and remove outliers and rerun the models and see if this makes a difference.\n",
    "\n",
    "Other things we could try:\n",
    "\n",
    "Winsorizing: This method involves setting the extreme values of an attribute to some specified value. For example, for a 90% Winsorization, the bottom 5% of values are set equal to the minimum value in the 5th percentile, while the upper 5% of values are set equal to the maximum value in the 95th percentile. This is more advanced than trimming where we just exclude the extreme values. This approach might make sense for the three attributes above.  \n",
    "\n",
    "Log-Scale Transformation: This method is often used to reduce the variability of data including outlying observation. Here, the y value is changed to log(y). It’s often preferred when the response variable follows exponential distribution or is right-skewed. This would make sense for Insulin and DiabetesPedigreeFunction. "
   ]
  },
  {
   "cell_type": "code",
   "execution_count": 19,
   "metadata": {},
   "outputs": [
    {
     "data": {
      "image/png": "[encoded data removed]",
      "text/plain": [
       "<Figure size 720x360 with 2 Axes>"
      ]
     },
     "metadata": {},
     "output_type": "display_data"
    }
   ],
   "source": [
    "#Let's try a log scale transformation on Insulin and Diabetes Pedigree Function\n",
    "log_insulin = np.log(df_dw[['Insulin','DiabetesPedigreeFunction']])\n",
    "_ = log_insulin.hist(figsize=(10,5), bins=30, color='darkslateblue')"
   ]
  },
  {
   "cell_type": "markdown",
   "metadata": {},
   "source": [
    "These distributions look much more normal now and don't appear to have real outliers, so it may make sense to transform them before putting them into our logistic regression model.  \n",
    "\n",
    "So for now, I'm making the decision to not remove any outliers.  "
   ]
  },
  {
   "cell_type": "markdown",
   "metadata": {},
   "source": [
    "## Categorization of BMI\n",
    "BMI is often categorized, so let's add a column to our dataframe based on the following categories:<br>\n",
    "< 18.5\tunderweight<br>\n",
    "18.5–24.9\tnormal weight<br>\n",
    "25.0–29.9\toverweight<br>\n",
    "30.0–34.9\tclass I obesity<br>\n",
    "35.0–39.9\tclass II obesity<br>\n",
    "≥ 40.0\tclass III obesity<br>"
   ]
  },
  {
   "cell_type": "code",
   "execution_count": 20,
   "metadata": {},
   "outputs": [],
   "source": [
    "bmi_bins = [0,18.5,25,30,35,40,100]\n",
    "bmi_labels = ['Underweight','Normal Weight','Overweight','Class I Obese','Class II Obese','Class III Obese']\n",
    "df_dw['BMI Category'] = pd.cut(df_dw['BMI'],bins = bmi_bins, labels = bmi_labels)"
   ]
  },
  {
   "cell_type": "code",
   "execution_count": 21,
   "metadata": {},
   "outputs": [
    {
     "data": {
      "text/plain": [
       "CategoricalDtype(categories=['Underweight', 'Normal Weight', 'Overweight',\n",
       "                  'Class I Obese', 'Class II Obese', 'Class III Obese'],\n",
       "                 ordered=True)"
      ]
     },
     "execution_count": 21,
     "metadata": {},
     "output_type": "execute_result"
    }
   ],
   "source": [
    "df_dw['BMI Category'].dtype"
   ]
  },
  {
   "cell_type": "markdown",
   "metadata": {},
   "source": [
    "We can see from this that the attributes which show the highest correlation are age and number of pregnancies (makes sense), and Skin Thickness and BMI (also makes sense).  However the correlation coefficient for these isn't much higher than 0.6, so I don't think that will be a problem for our logistic regression model.  Note that the number of pregnancies shows a very low correlation with several attributes, which makes sense.  Overall I think this heatmap looks pretty good because we don't see a lot of collinearity between our attributes.  "
   ]
  },
  {
   "cell_type": "markdown",
   "metadata": {},
   "source": [
    "## Balance of Outcome"
   ]
  },
  {
   "cell_type": "code",
   "execution_count": 22,
   "metadata": {},
   "outputs": [
    {
     "data": {
      "text/plain": [
       "0    481\n",
       "1    252\n",
       "Name: Outcome, dtype: int64"
      ]
     },
     "execution_count": 22,
     "metadata": {},
     "output_type": "execute_result"
    }
   ],
   "source": [
    "# Lets look at distribution of Outcome\n",
    "df_dw['Outcome'].value_counts()"
   ]
  },
  {
   "cell_type": "markdown",
   "metadata": {},
   "source": [
    "We've got about a third of the instances with positive outcomes, which is somewhat imbalanced but not terribly imbalanced. For now we'll just stay aware of this and see how our models do, but there are tools at our disposal, such as SMOTE, to help us address this and perhaps increase the accuracy of our models."
   ]
  },
  {
   "cell_type": "markdown",
   "metadata": {},
   "source": [
    "## Save Data"
   ]
  },
  {
   "cell_type": "code",
   "execution_count": 23,
   "metadata": {},
   "outputs": [],
   "source": [
    "# We're going to save our final dataframe to a csv file,\n",
    "# and also save a config file which lets us know a bit \n",
    "# about what we've done here.\n",
    "\n",
    "datapath = '../data'\n",
    "datapath_dw = os.path.join(datapath, 'df_dw.csv')\n",
    "df_dw.to_csv(datapath_dw, index=False)"
   ]
  }
 ],
 "metadata": {
  "kernelspec": {
   "display_name": "Python 3",
   "language": "python",
   "name": "python3"
  },
  "language_info": {
   "codemirror_mode": {
    "name": "ipython",
    "version": 3
   },
   "file_extension": ".py",
   "mimetype": "text/x-python",
   "name": "python",
   "nbconvert_exporter": "python",
   "pygments_lexer": "ipython3",
   "version": "3.8.2"
  }
 },
 "nbformat": 4,
 "nbformat_minor": 4
}
